{
  "nbformat": 4,
  "nbformat_minor": 0,
  "metadata": {
    "colab": {
      "name": "build_a_star_workshop_overcash.ipynb",
      "provenance": [],
      "collapsed_sections": [],
      "authorship_tag": "ABX9TyOPuAMx6T6Y7/RLUokfVt/S",
      "include_colab_link": true
    },
    "kernelspec": {
      "name": "python3",
      "display_name": "Python 3"
    },
    "language_info": {
      "name": "python"
    }
  },
  "cells": [
    {
      "cell_type": "markdown",
      "metadata": {
        "id": "view-in-github",
        "colab_type": "text"
      },
      "source": [
        "<a href=\"https://colab.research.google.com/github/jercash/build_a_star_overcashFINAL/blob/main/build_a_star_workshop_overcash.ipynb\" target=\"_parent\"><img src=\"https://colab.research.google.com/assets/colab-badge.svg\" alt=\"Open In Colab\"/></a>"
      ]
    },
    {
      "cell_type": "markdown",
      "metadata": {
        "id": "OA0subjBrqER"
      },
      "source": [
        "# Build-a-Star Workshop\n",
        "*The most heat you'll ever make*\n",
        "\n",
        "By Jeremy Overcash :)"
      ]
    },
    {
      "cell_type": "markdown",
      "metadata": {
        "id": "I0n2cjNDortG"
      },
      "source": [
        "In this notebook we will build a star using the Equations of Stellar Structure. This should work for a star of any mass on the main sequence.\n",
        "\n",
        "Since this is a very difficult task, we will be making some preemptive assumptions. We will assume that the star...\n",
        "\n",
        "- ...can transport all heat radiatively (convective heat transport is an entirely new beast)\n",
        "\n",
        "- ...will use purely P-P Chain reactions to generate energy. The CNO cycle will be left out\n",
        "\n",
        "- ...has a similar material composition and ionization as our Sun\n",
        "\n",
        "- ...has a similar opacity to the Sun, which will remain constant throughout the star"
      ]
    },
    {
      "cell_type": "markdown",
      "metadata": {
        "id": "CIS2f3zIpBpR"
      },
      "source": [
        "The first step is to import libraries. We will need numpy, scpipy, and matplot:"
      ]
    },
    {
      "cell_type": "code",
      "metadata": {
        "id": "SopSLsUYZOML"
      },
      "source": [
        "import numpy as np\n",
        "import scipy.constants as scp\n",
        "import scipy.integrate as integrate\n",
        "import matplotlib.pyplot as plt"
      ],
      "execution_count": 1,
      "outputs": []
    },
    {
      "cell_type": "markdown",
      "metadata": {
        "id": "vmGY4iuupUkg"
      },
      "source": [
        "# Variables and Constants\n",
        "\n",
        "Next, we will define our variables and constants. $M$ can be altered by the viewer to change the mass of the star. Notice how there is only ONE thing the user can change; the goal behind this project is to show how *dependent* on its mass a star really is!"
      ]
    },
    {
      "cell_type": "code",
      "metadata": {
        "id": "39zw8LSrpq9i"
      },
      "source": [
        "#user-defined variables:\n",
        "M = 1 * 1.989e30 #kg, mass of the star. coverted from solar masses to kg\n",
        "\n",
        "#constants:\n",
        "G = 6.67e-11 #m^3/kg*s^2, gravitational constant\n",
        "pi = scp.pi #our value of pi. this makes it easier to keep track of\n",
        "X_fraction = 0.740 #in %, mass fraction of Hydrogen in our Sun\n",
        "mu = 0.6 #unitless\n",
        "Msolar = 1.989e30 #kg, mass of our Sun\n",
        "Rsolar = 690000000 #m, radius of our Sun\n",
        "opacity = 8 #m^2/kg, similar to the Sun's opacity\n",
        "Eo = 1.08e-12 #W*m^3/kg^2, constant used in energy generation function\n",
        "sigma = scp.sigma #W/m^2K^4, Stefan-Boltzmann constant\n",
        "mh = scp.m_p #kg, mass of proton\n",
        "k = scp.k #boltzmann constant"
      ],
      "execution_count": 2,
      "outputs": []
    },
    {
      "cell_type": "markdown",
      "metadata": {
        "id": "HSnu8Hgl5BHb"
      },
      "source": [
        "# Equations and Functions\n",
        "\n",
        "We will be using many equations to build our star. Here is a list of their names:\n",
        "\n",
        "- Hydrostatic Equilibrium\n",
        "\n",
        "- Equation of State\n",
        "\n",
        "- Mass Continuity\n",
        "\n",
        "- Radiative Temperature Gradient\n",
        "\n",
        "- Solar Luminosity\n",
        "\n",
        "- Energy Generation\n",
        "\n",
        "There's a lot here, so I will define them in comments as we go. \n",
        "\n",
        "First up, we will define an equation to find the radius of the star from the user-defined mass:"
      ]
    },
    {
      "cell_type": "code",
      "metadata": {
        "id": "sevKxBn96W-U"
      },
      "source": [
        "if (M / Msolar) == 1.0: #we want the one we actually know to be true!\n",
        "  R = Rsolar\n",
        "else:\n",
        "  if (M / Msolar) > 1.66: #the rules for radius change as stars get large!\n",
        "    R = 1.33*Rsolar*(M/Msolar)**0.555\n",
        "  else:\n",
        "    R = 1.06*Rsolar*(M/Msolar)**0.945\n",
        "\n",
        "R = int(R)\n",
        "#theta = np.linspace(0,R,360)"
      ],
      "execution_count": 3,
      "outputs": []
    },
    {
      "cell_type": "markdown",
      "metadata": {
        "id": "EAPyIg7s6GBP"
      },
      "source": [
        "Now that we have our radius, we can write an equation to find density. Since density changes with radial distance, we must define:"
      ]
    },
    {
      "cell_type": "code",
      "metadata": {
        "id": "OXIbuD2eqbIr"
      },
      "source": [
        "def density(r): \n",
        "  return 3*M / (4*pi*r**3)"
      ],
      "execution_count": 4,
      "outputs": []
    },
    {
      "cell_type": "markdown",
      "metadata": {
        "id": "R12QkoEf-wof"
      },
      "source": [
        "That wasn't so bad! Now, let's get to the good stuff. We can find the mass internal to a radial distance using the Mass Continuity Equation. This is where we need to start integrating, since this equation traditionally gives us the *change* in mass:"
      ]
    },
    {
      "cell_type": "code",
      "metadata": {
        "id": "b8IlPtQy_G-M"
      },
      "source": [
        "def mass(r): #mass continuity equation\n",
        "  return 4*pi*r**2*density(r)\n",
        "\n",
        "#constants for integration:\n",
        "a = 1 #start. cannot use 0 because we will be dividing by this number\n",
        "N = 10000000 #number of slicess\n",
        "\n",
        "def integral_mass(r): #integral of mass continuity equation\n",
        "  b = r\n",
        "  h = (b-a) / N \n",
        "  x = np.linspace(a,b,N+1,endpoint=True)\n",
        "  y = mass(x)\n",
        "  return h * (np.sum(y) - 0.5*(y[0]+y[-1]))"
      ],
      "execution_count": 5,
      "outputs": []
    },
    {
      "cell_type": "code",
      "metadata": {
        "colab": {
          "base_uri": "https://localhost:8080/"
        },
        "id": "o47xbbHtHN-Q",
        "outputId": "063966b6-51f4-4925-f601-4dc8cc820b7f"
      },
      "source": [
        "print(integral_mass(R))"
      ],
      "execution_count": 14,
      "outputs": [
        {
          "output_type": "stream",
          "text": [
            "3.0534165845211672e+32\n"
          ],
          "name": "stdout"
        }
      ]
    },
    {
      "cell_type": "markdown",
      "metadata": {
        "id": "d02oBPRcIhgT"
      },
      "source": [
        "Now that we have our mass continuity equation ready, we can set up our equation for Hydrostatic Equilibrium. This is *also* a \"change-in\" equation, so we need to find the integral as well."
      ]
    },
    {
      "cell_type": "code",
      "metadata": {
        "id": "K6hxy3C8_T3B"
      },
      "source": [
        "def pressure(r): #hydrostatic equilibrium\n",
        "  return -1*G*integral_mass(r)[0]/r**2\n",
        "\n",
        "def integral_pressure(r): #integral of hydrostatic equilibrium\n",
        "  b = r\n",
        "  h = (b-a) / N \n",
        "  x = np.linspace(a,b,N+1,endpoint=True) #Note the N+1 is because for N trapezoids, you need N+1 points\n",
        "  y = pressure(x)\n",
        "  return h * (np.sum(y) - 0.5*(y[0]+y[-1]))"
      ],
      "execution_count": 6,
      "outputs": []
    },
    {
      "cell_type": "code",
      "metadata": {
        "colab": {
          "base_uri": "https://localhost:8080/",
          "height": 385
        },
        "id": "pnGmHBGbG5ur",
        "outputId": "149b6037-4d79-4863-9fc9-7f1e804b176e"
      },
      "source": [
        "print(integral_pressure(R))"
      ],
      "execution_count": 18,
      "outputs": [
        {
          "output_type": "error",
          "ename": "MemoryError",
          "evalue": "ignored",
          "traceback": [
            "\u001b[0;31m---------------------------------------------------------------------------\u001b[0m",
            "\u001b[0;31mMemoryError\u001b[0m                               Traceback (most recent call last)",
            "\u001b[0;32m<ipython-input-18-5ee8e4b3b68b>\u001b[0m in \u001b[0;36m<module>\u001b[0;34m()\u001b[0m\n\u001b[0;32m----> 1\u001b[0;31m \u001b[0mprint\u001b[0m\u001b[0;34m(\u001b[0m\u001b[0mintegral_pressure\u001b[0m\u001b[0;34m(\u001b[0m\u001b[0mR\u001b[0m\u001b[0;34m)\u001b[0m\u001b[0;34m)\u001b[0m\u001b[0;34m\u001b[0m\u001b[0;34m\u001b[0m\u001b[0m\n\u001b[0m",
            "\u001b[0;32m<ipython-input-17-5562178226d7>\u001b[0m in \u001b[0;36mintegral_pressure\u001b[0;34m(r)\u001b[0m\n\u001b[1;32m      6\u001b[0m   \u001b[0mh\u001b[0m \u001b[0;34m=\u001b[0m \u001b[0;34m(\u001b[0m\u001b[0mb\u001b[0m\u001b[0;34m-\u001b[0m\u001b[0ma\u001b[0m\u001b[0;34m)\u001b[0m \u001b[0;34m/\u001b[0m \u001b[0mN\u001b[0m\u001b[0;34m\u001b[0m\u001b[0;34m\u001b[0m\u001b[0m\n\u001b[1;32m      7\u001b[0m   \u001b[0mx\u001b[0m \u001b[0;34m=\u001b[0m \u001b[0mnp\u001b[0m\u001b[0;34m.\u001b[0m\u001b[0mlinspace\u001b[0m\u001b[0;34m(\u001b[0m\u001b[0ma\u001b[0m\u001b[0;34m,\u001b[0m\u001b[0mb\u001b[0m\u001b[0;34m,\u001b[0m\u001b[0mN\u001b[0m\u001b[0;34m+\u001b[0m\u001b[0;36m1\u001b[0m\u001b[0;34m,\u001b[0m\u001b[0mendpoint\u001b[0m\u001b[0;34m=\u001b[0m\u001b[0;32mTrue\u001b[0m\u001b[0;34m)\u001b[0m \u001b[0;31m#Note the N+1 is because for N trapezoids, you need N+1 points\u001b[0m\u001b[0;34m\u001b[0m\u001b[0;34m\u001b[0m\u001b[0m\n\u001b[0;32m----> 8\u001b[0;31m   \u001b[0my\u001b[0m \u001b[0;34m=\u001b[0m \u001b[0mpressure\u001b[0m\u001b[0;34m(\u001b[0m\u001b[0mx\u001b[0m\u001b[0;34m)\u001b[0m\u001b[0;34m\u001b[0m\u001b[0;34m\u001b[0m\u001b[0m\n\u001b[0m\u001b[1;32m      9\u001b[0m   \u001b[0;32mreturn\u001b[0m \u001b[0mh\u001b[0m \u001b[0;34m*\u001b[0m \u001b[0;34m(\u001b[0m\u001b[0mnp\u001b[0m\u001b[0;34m.\u001b[0m\u001b[0msum\u001b[0m\u001b[0;34m(\u001b[0m\u001b[0my\u001b[0m\u001b[0;34m)\u001b[0m \u001b[0;34m-\u001b[0m \u001b[0;36m0.5\u001b[0m\u001b[0;34m*\u001b[0m\u001b[0;34m(\u001b[0m\u001b[0my\u001b[0m\u001b[0;34m[\u001b[0m\u001b[0;36m0\u001b[0m\u001b[0;34m]\u001b[0m\u001b[0;34m+\u001b[0m\u001b[0my\u001b[0m\u001b[0;34m[\u001b[0m\u001b[0;34m-\u001b[0m\u001b[0;36m1\u001b[0m\u001b[0;34m]\u001b[0m\u001b[0;34m)\u001b[0m\u001b[0;34m)\u001b[0m\u001b[0;34m\u001b[0m\u001b[0;34m\u001b[0m\u001b[0m\n",
            "\u001b[0;32m<ipython-input-17-5562178226d7>\u001b[0m in \u001b[0;36mpressure\u001b[0;34m(r)\u001b[0m\n\u001b[1;32m      1\u001b[0m \u001b[0;32mdef\u001b[0m \u001b[0mpressure\u001b[0m\u001b[0;34m(\u001b[0m\u001b[0mr\u001b[0m\u001b[0;34m)\u001b[0m\u001b[0;34m:\u001b[0m \u001b[0;31m#hydrostatic equilibrium\u001b[0m\u001b[0;34m\u001b[0m\u001b[0;34m\u001b[0m\u001b[0m\n\u001b[0;32m----> 2\u001b[0;31m   \u001b[0;32mreturn\u001b[0m \u001b[0;34m-\u001b[0m\u001b[0;36m1\u001b[0m\u001b[0;34m*\u001b[0m\u001b[0mG\u001b[0m\u001b[0;34m*\u001b[0m\u001b[0mintegral_mass\u001b[0m\u001b[0;34m(\u001b[0m\u001b[0mr\u001b[0m\u001b[0;34m)\u001b[0m\u001b[0;34m[\u001b[0m\u001b[0;36m0\u001b[0m\u001b[0;34m]\u001b[0m\u001b[0;34m/\u001b[0m\u001b[0mr\u001b[0m\u001b[0;34m**\u001b[0m\u001b[0;36m2\u001b[0m\u001b[0;34m\u001b[0m\u001b[0;34m\u001b[0m\u001b[0m\n\u001b[0m\u001b[1;32m      3\u001b[0m \u001b[0;34m\u001b[0m\u001b[0m\n\u001b[1;32m      4\u001b[0m \u001b[0;32mdef\u001b[0m \u001b[0mintegral_pressure\u001b[0m\u001b[0;34m(\u001b[0m\u001b[0mr\u001b[0m\u001b[0;34m)\u001b[0m\u001b[0;34m:\u001b[0m \u001b[0;31m#integral of hydrostatic equilibrium\u001b[0m\u001b[0;34m\u001b[0m\u001b[0;34m\u001b[0m\u001b[0m\n\u001b[1;32m      5\u001b[0m   \u001b[0mb\u001b[0m \u001b[0;34m=\u001b[0m \u001b[0mr\u001b[0m\u001b[0;34m\u001b[0m\u001b[0;34m\u001b[0m\u001b[0m\n",
            "\u001b[0;32m<ipython-input-13-ae1cf91e817e>\u001b[0m in \u001b[0;36mintegral_mass\u001b[0;34m(r)\u001b[0m\n\u001b[1;32m      9\u001b[0m   \u001b[0mb\u001b[0m \u001b[0;34m=\u001b[0m \u001b[0mr\u001b[0m\u001b[0;34m\u001b[0m\u001b[0;34m\u001b[0m\u001b[0m\n\u001b[1;32m     10\u001b[0m   \u001b[0mh\u001b[0m \u001b[0;34m=\u001b[0m \u001b[0;34m(\u001b[0m\u001b[0mb\u001b[0m\u001b[0;34m-\u001b[0m\u001b[0ma\u001b[0m\u001b[0;34m)\u001b[0m \u001b[0;34m/\u001b[0m \u001b[0mN\u001b[0m\u001b[0;34m\u001b[0m\u001b[0;34m\u001b[0m\u001b[0m\n\u001b[0;32m---> 11\u001b[0;31m   \u001b[0mx\u001b[0m \u001b[0;34m=\u001b[0m \u001b[0mnp\u001b[0m\u001b[0;34m.\u001b[0m\u001b[0mlinspace\u001b[0m\u001b[0;34m(\u001b[0m\u001b[0ma\u001b[0m\u001b[0;34m,\u001b[0m\u001b[0mb\u001b[0m\u001b[0;34m,\u001b[0m\u001b[0mN\u001b[0m\u001b[0;34m+\u001b[0m\u001b[0;36m1\u001b[0m\u001b[0;34m,\u001b[0m\u001b[0mendpoint\u001b[0m\u001b[0;34m=\u001b[0m\u001b[0;32mTrue\u001b[0m\u001b[0;34m)\u001b[0m\u001b[0;34m\u001b[0m\u001b[0;34m\u001b[0m\u001b[0m\n\u001b[0m\u001b[1;32m     12\u001b[0m   \u001b[0my\u001b[0m \u001b[0;34m=\u001b[0m \u001b[0mmass\u001b[0m\u001b[0;34m(\u001b[0m\u001b[0mx\u001b[0m\u001b[0;34m)\u001b[0m\u001b[0;34m\u001b[0m\u001b[0;34m\u001b[0m\u001b[0m\n\u001b[1;32m     13\u001b[0m   \u001b[0;32mreturn\u001b[0m \u001b[0mh\u001b[0m \u001b[0;34m*\u001b[0m \u001b[0;34m(\u001b[0m\u001b[0mnp\u001b[0m\u001b[0;34m.\u001b[0m\u001b[0msum\u001b[0m\u001b[0;34m(\u001b[0m\u001b[0my\u001b[0m\u001b[0;34m)\u001b[0m \u001b[0;34m-\u001b[0m \u001b[0;36m0.5\u001b[0m\u001b[0;34m*\u001b[0m\u001b[0;34m(\u001b[0m\u001b[0my\u001b[0m\u001b[0;34m[\u001b[0m\u001b[0;36m0\u001b[0m\u001b[0;34m]\u001b[0m\u001b[0;34m+\u001b[0m\u001b[0my\u001b[0m\u001b[0;34m[\u001b[0m\u001b[0;34m-\u001b[0m\u001b[0;36m1\u001b[0m\u001b[0;34m]\u001b[0m\u001b[0;34m)\u001b[0m\u001b[0;34m)\u001b[0m\u001b[0;34m\u001b[0m\u001b[0;34m\u001b[0m\u001b[0m\n",
            "\u001b[0;32m<__array_function__ internals>\u001b[0m in \u001b[0;36mlinspace\u001b[0;34m(*args, **kwargs)\u001b[0m\n",
            "\u001b[0;32m/usr/local/lib/python3.7/dist-packages/numpy/core/function_base.py\u001b[0m in \u001b[0;36mlinspace\u001b[0;34m(start, stop, num, endpoint, retstep, dtype, axis)\u001b[0m\n\u001b[1;32m    139\u001b[0m                 \u001b[0my\u001b[0m \u001b[0;34m*=\u001b[0m \u001b[0mdelta\u001b[0m\u001b[0;34m\u001b[0m\u001b[0;34m\u001b[0m\u001b[0m\n\u001b[1;32m    140\u001b[0m             \u001b[0;32melse\u001b[0m\u001b[0;34m:\u001b[0m\u001b[0;34m\u001b[0m\u001b[0;34m\u001b[0m\u001b[0m\n\u001b[0;32m--> 141\u001b[0;31m                 \u001b[0my\u001b[0m \u001b[0;34m=\u001b[0m \u001b[0my\u001b[0m \u001b[0;34m*\u001b[0m \u001b[0mdelta\u001b[0m\u001b[0;34m\u001b[0m\u001b[0;34m\u001b[0m\u001b[0m\n\u001b[0m\u001b[1;32m    142\u001b[0m         \u001b[0;32melse\u001b[0m\u001b[0;34m:\u001b[0m\u001b[0;34m\u001b[0m\u001b[0;34m\u001b[0m\u001b[0m\n\u001b[1;32m    143\u001b[0m             \u001b[0;32mif\u001b[0m \u001b[0m_mult_inplace\u001b[0m\u001b[0;34m:\u001b[0m\u001b[0;34m\u001b[0m\u001b[0;34m\u001b[0m\u001b[0m\n",
            "\u001b[0;31mMemoryError\u001b[0m: Unable to allocate 728. TiB for an array with shape (10000001, 10000001) and data type float64"
          ]
        }
      ]
    },
    {
      "cell_type": "markdown",
      "metadata": {
        "id": "T6KTkEFV4UhD"
      },
      "source": [
        "The next equations we need are our Luminosity equations. Before we can define the change in luminosity, we need to define the equation for core temperature of a star, which writes:"
      ]
    },
    {
      "cell_type": "code",
      "metadata": {
        "id": "68HOgc0m4UFc"
      },
      "source": [
        "def Tcore(r):\n",
        "  return mu*mh*pressure(r)/(density(R)*k)"
      ],
      "execution_count": 7,
      "outputs": []
    },
    {
      "cell_type": "markdown",
      "metadata": {
        "id": "qP3RxRLs1KEx"
      },
      "source": [
        "Next, the equation for energy generation:"
      ]
    },
    {
      "cell_type": "code",
      "metadata": {
        "id": "2nwoPMPwG8OM"
      },
      "source": [
        "def E(r): \n",
        "  return Eo*density(r)*X_fraction**2*(Tcore(r)/1e6)**4"
      ],
      "execution_count": 8,
      "outputs": []
    },
    {
      "cell_type": "markdown",
      "metadata": {
        "id": "u6RSzSVe5CBS"
      },
      "source": [
        "Now we can define our Luminosity as:"
      ]
    },
    {
      "cell_type": "code",
      "metadata": {
        "id": "HDa3wC1Z5IGH"
      },
      "source": [
        "def luminosity(r):\n",
        "  return 4*pi*r**2*density(r)*E(r)\n",
        "\n",
        "def integral_luminosity(r):\n",
        "  return"
      ],
      "execution_count": null,
      "outputs": []
    },
    {
      "cell_type": "markdown",
      "metadata": {
        "id": "vISouCrS5WgK"
      },
      "source": [
        "Finally, our radiative temperature gradient equation can be defined. This is written as:"
      ]
    },
    {
      "cell_type": "code",
      "metadata": {
        "id": "agUsCYqN5iT7"
      },
      "source": [
        "def Trad(r):"
      ],
      "execution_count": null,
      "outputs": []
    }
  ]
}