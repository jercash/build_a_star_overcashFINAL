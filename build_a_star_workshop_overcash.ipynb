{
  "nbformat": 4,
  "nbformat_minor": 0,
  "metadata": {
    "colab": {
      "name": "build_a_star_workshop_overcash.ipynb",
      "provenance": [],
      "collapsed_sections": [],
      "authorship_tag": "ABX9TyNe3jmgaCrRK7S/T64BC2j9",
      "include_colab_link": true
    },
    "kernelspec": {
      "name": "python3",
      "display_name": "Python 3"
    },
    "language_info": {
      "name": "python"
    }
  },
  "cells": [
    {
      "cell_type": "markdown",
      "metadata": {
        "id": "view-in-github",
        "colab_type": "text"
      },
      "source": [
        "<a href=\"https://colab.research.google.com/github/jercash/build_a_star_overcashFINAL/blob/main/build_a_star_workshop_overcash.ipynb\" target=\"_parent\"><img src=\"https://colab.research.google.com/assets/colab-badge.svg\" alt=\"Open In Colab\"/></a>"
      ]
    },
    {
      "cell_type": "markdown",
      "metadata": {
        "id": "OA0subjBrqER"
      },
      "source": [
        "# Build-a-Star Workshop\n",
        "*The most heat you'll ever make*\n",
        "\n",
        "By Jeremy Overcash :)"
      ]
    },
    {
      "cell_type": "markdown",
      "metadata": {
        "id": "I0n2cjNDortG"
      },
      "source": [
        "In this notebook we will build a star using the Equations of Stellar Structure. This should work for a star of any mass on the main sequence.\n",
        "\n",
        "Since this is a very difficult task, we will be making some preemptive assumptions. We will assume that the star...\n",
        "\n",
        "- ...can transport all heat radiatively (convective heat transport is an entirely new beast)\n",
        "\n",
        "- ...will use purely P-P Chain reactions to generate energy. The CNO cycle will be left out\n",
        "\n",
        "- ...has a similar material composition and ionization as our Sun\n",
        "\n",
        "- ...has a similar opacity to the Sun, which will remain constant throughout the star"
      ]
    },
    {
      "cell_type": "markdown",
      "metadata": {
        "id": "CIS2f3zIpBpR"
      },
      "source": [
        "The first step is to import libraries. We will need numpy, scpipy, and matplot:"
      ]
    },
    {
      "cell_type": "code",
      "metadata": {
        "id": "SopSLsUYZOML"
      },
      "source": [
        "import numpy as np\n",
        "import scipy.constants as scp\n",
        "import scipy.integrate as integrate\n",
        "import matplotlib.pyplot as plt"
      ],
      "execution_count": 35,
      "outputs": []
    },
    {
      "cell_type": "markdown",
      "metadata": {
        "id": "vmGY4iuupUkg"
      },
      "source": [
        "# Variables and Constants\n",
        "\n",
        "Next, we will define our variables and constants. $M$ can be altered by the viewer to change the mass of the star. Notice how there is only ONE thing the user can change; the goal behind this project is to show how *dependent* on its mass a star really is!"
      ]
    },
    {
      "cell_type": "code",
      "metadata": {
        "id": "39zw8LSrpq9i"
      },
      "source": [
        "#user-defined variables:\n",
        "M = 1 * 1.989e30 #kg, mass of the star. coverted from solar masses to kg\n",
        "\n",
        "#constants:\n",
        "G = 6.67e-11 #m^3/kg*s^2, gravitational constant\n",
        "pi = scp.pi #our value of pi. this makes it easier to keep track of\n",
        "X_fraction = 0.740 #in %, mass fraction of Hydrogen in our Sun\n",
        "mu = 0.6 #unitless\n",
        "Msolar = 1.989e30 #kg, mass of our Sun\n",
        "Rsolar = 690000000 #m, radius of our Sun\n",
        "opacity = 8 #m^2/kg, similar to the Sun's opacity\n",
        "Eo = 1.08e-12 #W*m^3/kg^2, constant used in energy generation function\n",
        "sigma = scp.sigma #W/m^2K^4, Stefan-Boltzmann constant\n",
        "mh = scp.m_p #kg, mass of proton\n",
        "k = scp.k #boltzmann constant"
      ],
      "execution_count": 36,
      "outputs": []
    },
    {
      "cell_type": "markdown",
      "metadata": {
        "id": "HSnu8Hgl5BHb"
      },
      "source": [
        "# Equations and Functions\n",
        "\n",
        "We will be using many equations to build our star. Here is a list of their names:\n",
        "\n",
        "- Hydrostatic Equilibrium\n",
        "\n",
        "- Equation of State\n",
        "\n",
        "- Mass Continuity\n",
        "\n",
        "- Radiative Temperature Gradient\n",
        "\n",
        "- Solar Luminosity\n",
        "\n",
        "- Energy Generation\n",
        "\n",
        "There's a lot here, so I will define them in comments as we go. \n",
        "\n",
        "First up, we will define an equation to find the radius of the star from the user-defined mass:"
      ]
    },
    {
      "cell_type": "code",
      "metadata": {
        "id": "sevKxBn96W-U"
      },
      "source": [
        "if (M / Msolar) == 1.0: #we want the one we actually know to be true!\n",
        "  R = Rsolar\n",
        "else:\n",
        "  if (M / Msolar) > 1.66: #the rules for radius change as stars get large!\n",
        "    R = 1.33*Rsolar*(M/Msolar)**0.555\n",
        "  else:\n",
        "    R = 1.06*Rsolar*(M/Msolar)**0.945\n",
        "\n",
        "R = int(R)\n",
        "#theta = np.linspace(0,R,360)"
      ],
      "execution_count": 37,
      "outputs": []
    },
    {
      "cell_type": "markdown",
      "metadata": {
        "id": "EAPyIg7s6GBP"
      },
      "source": [
        "Now that we have our radius, we can write an equation to find density. Since density changes with radial distance, we must define:"
      ]
    },
    {
      "cell_type": "code",
      "metadata": {
        "id": "OXIbuD2eqbIr"
      },
      "source": [
        "#def density(r): \n",
        "density = 3*M / (4*pi*R**3)"
      ],
      "execution_count": 38,
      "outputs": []
    },
    {
      "cell_type": "markdown",
      "metadata": {
        "id": "R12QkoEf-wof"
      },
      "source": [
        "That wasn't so bad! Now, let's get to the good stuff. We can find the mass internal to a radial distance using the Mass Continuity Equation. This is where we need to start integrating, since this equation traditionally gives us the *change* in mass:"
      ]
    },
    {
      "cell_type": "code",
      "metadata": {
        "colab": {
          "base_uri": "https://localhost:8080/"
        },
        "id": "b8IlPtQy_G-M",
        "outputId": "7913432b-18a5-494e-cd4d-8ec768cfd7d0"
      },
      "source": [
        "def mass(r): #integral of mass continuity equation\n",
        "  return 4*pi*r**3*density/3\n",
        "\n",
        "print(mass(R))\n",
        "##constants for integration:\n",
        "#a = 0 #start. cannot use 0 because we will be dividing by this number\n",
        "#N = 100 #number of slices\n",
        "\n",
        "#def integral_mass(r): #integral of mass continuity equation\n",
        "#  b = r\n",
        "#  h = (b-a) / N \n",
        "#  x = np.linspace(a,b,N+1,endpoint=True)\n",
        "#  y = mass(x)\n",
        "\n",
        "#  plt.plot(x,y)\n",
        "#  return h * (np.sum(y) - 0.5*(y[0]+y[-1]))"
      ],
      "execution_count": 39,
      "outputs": [
        {
          "output_type": "stream",
          "text": [
            "1.989e+30\n"
          ],
          "name": "stdout"
        }
      ]
    },
    {
      "cell_type": "markdown",
      "metadata": {
        "id": "d02oBPRcIhgT"
      },
      "source": [
        "Now that we have our mass continuity equation ready, we can set up our equation for Hydrostatic Equilibrium. This is *also* a \"change-in\" equation, so we need to find the integral as well."
      ]
    },
    {
      "cell_type": "code",
      "metadata": {
        "colab": {
          "base_uri": "https://localhost:8080/"
        },
        "id": "K6hxy3C8_T3B",
        "outputId": "62eac7e0-45fe-4555-e06e-69211523b095"
      },
      "source": [
        "def pressure(r): #integral of hydrostatic equilibrium\n",
        "  return G*mass(r)/r\n",
        "\n",
        "print(pressure(R))"
      ],
      "execution_count": 40,
      "outputs": [
        {
          "output_type": "stream",
          "text": [
            "192270000000.0\n"
          ],
          "name": "stdout"
        }
      ]
    },
    {
      "cell_type": "markdown",
      "metadata": {
        "id": "T6KTkEFV4UhD"
      },
      "source": [
        "The next equations we need are our Luminosity equations. Before we can define the change in luminosity, we need to define the equation for core temperature of a star, which writes:"
      ]
    },
    {
      "cell_type": "code",
      "metadata": {
        "colab": {
          "base_uri": "https://localhost:8080/"
        },
        "id": "68HOgc0m4UFc",
        "outputId": "d5bf41bb-bab5-426f-a58b-e2c5589a1d68"
      },
      "source": [
        "def Tcore(r):\n",
        "  return mu*mh*pressure(r)/(density*k)\n",
        "\n",
        "print(Tcore(R))"
      ],
      "execution_count": 41,
      "outputs": [
        {
          "output_type": "stream",
          "text": [
            "9668.929137488933\n"
          ],
          "name": "stdout"
        }
      ]
    },
    {
      "cell_type": "markdown",
      "metadata": {
        "id": "qP3RxRLs1KEx"
      },
      "source": [
        "Next, the equation for energy generation. The equation we are using here is for P-P chain energy generation, rather than CNO cycle energy generation:"
      ]
    },
    {
      "cell_type": "code",
      "metadata": {
        "colab": {
          "base_uri": "https://localhost:8080/"
        },
        "id": "2nwoPMPwG8OM",
        "outputId": "e3bf22d1-b0e7-4c7a-eb00-79bf27270878"
      },
      "source": [
        "def Epp(r): \n",
        "  return Eo*density*X_fraction**2*(Tcore(r)**4)/1e11\n",
        "  \n",
        "print(Epp(R))"
      ],
      "execution_count": 53,
      "outputs": [
        {
          "output_type": "stream",
          "text": [
            "7.471359019250179e-05\n"
          ],
          "name": "stdout"
        }
      ]
    },
    {
      "cell_type": "markdown",
      "metadata": {
        "id": "u6RSzSVe5CBS"
      },
      "source": [
        "Now we can define our Luminosity as:"
      ]
    },
    {
      "cell_type": "code",
      "metadata": {
        "colab": {
          "base_uri": "https://localhost:8080/"
        },
        "id": "HDa3wC1Z5IGH",
        "outputId": "1123f3ac-9cc3-4411-d644-92aeed8ce137"
      },
      "source": [
        "def luminosity(r): #integral of the luminosity equation\n",
        "  return 3*pi*r**3*density*Epp(r)\n",
        "\n",
        "print(luminosity(R))"
      ],
      "execution_count": 59,
      "outputs": [
        {
          "output_type": "stream",
          "text": [
            "3.3436199450899356e+26\n"
          ],
          "name": "stdout"
        }
      ]
    },
    {
      "cell_type": "markdown",
      "metadata": {
        "id": "vISouCrS5WgK"
      },
      "source": [
        "Finally, our radiative temperature gradient equation can be defined. This is written as:"
      ]
    },
    {
      "cell_type": "code",
      "metadata": {
        "colab": {
          "base_uri": "https://localhost:8080/"
        },
        "id": "agUsCYqN5iT7",
        "outputId": "b9d7edf3-8ffe-4ff1-87f9-d0108186280a"
      },
      "source": [
        "def Trad(r):\n",
        "  return opacity*density*luminosity(r)/(64*pi*sigma*r*Tcore(r)**3)\n",
        "\n",
        "print(Trad(10))"
      ],
      "execution_count": 60,
      "outputs": [
        {
          "output_type": "stream",
          "text": [
            "2.3987424828340922e-17\n"
          ],
          "name": "stdout"
        }
      ]
    },
    {
      "cell_type": "markdown",
      "metadata": {
        "id": "9SryTR24Oy2u"
      },
      "source": [
        "# "
      ]
    }
  ]
}