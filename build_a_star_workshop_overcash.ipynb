{
  "nbformat": 4,
  "nbformat_minor": 0,
  "metadata": {
    "colab": {
      "name": "build_a_star_workshop_overcash.ipynb",
      "provenance": [],
      "collapsed_sections": [],
      "authorship_tag": "ABX9TyOb7CYW9f18f3AGfAw0Qp17",
      "include_colab_link": true
    },
    "kernelspec": {
      "name": "python3",
      "display_name": "Python 3"
    },
    "language_info": {
      "name": "python"
    }
  },
  "cells": [
    {
      "cell_type": "markdown",
      "metadata": {
        "id": "view-in-github",
        "colab_type": "text"
      },
      "source": [
        "<a href=\"https://colab.research.google.com/github/jercash/build_a_star_overcashFINAL/blob/main/build_a_star_workshop_overcash.ipynb\" target=\"_parent\"><img src=\"https://colab.research.google.com/assets/colab-badge.svg\" alt=\"Open In Colab\"/></a>"
      ]
    },
    {
      "cell_type": "markdown",
      "metadata": {
        "id": "OA0subjBrqER"
      },
      "source": [
        "# Build-a-Star Workshop\n",
        "*The most heat you'll ever make*\n",
        "\n",
        "By Jeremy Overcash :)"
      ]
    },
    {
      "cell_type": "markdown",
      "metadata": {
        "id": "I0n2cjNDortG"
      },
      "source": [
        "In this notebook we will build a star using the Equations of Stellar Structure. This should work for a star of any mass on the main sequence.\n",
        "\n",
        "Since this is a very difficult task, we will be making some preemptive assumptions. We will assume that the star...\n",
        "\n",
        "- ...can transport all heat radiatively (convective heat transport is an entirely new beast)\n",
        "\n",
        "- ...will use purely P-P Chain reactions to generate energy. The CNO cycle will be left out\n",
        "\n",
        "- ...has a similar material composition and ionization as our Sun\n",
        "\n",
        "- ...has a similar opacity to the Sun, which will remain constant throughout the star"
      ]
    },
    {
      "cell_type": "markdown",
      "metadata": {
        "id": "CIS2f3zIpBpR"
      },
      "source": [
        "The first step is to import libraries. We will need numpy, scpipy, and matplot:"
      ]
    },
    {
      "cell_type": "code",
      "metadata": {
        "id": "SopSLsUYZOML"
      },
      "source": [
        "import numpy as np\n",
        "import scipy.constants as scp\n",
        "import scipy.integrate as integrate\n",
        "import matplotlib.pyplot as plt"
      ],
      "execution_count": 154,
      "outputs": []
    },
    {
      "cell_type": "markdown",
      "metadata": {
        "id": "vmGY4iuupUkg"
      },
      "source": [
        "# Variables and Constants\n",
        "\n",
        "Next, we will define our variables and constants. $M$ can be altered by the viewer to change the mass of the star. Notice how there is only ONE thing the user can change; the goal behind this project is to show how *dependent* on its mass a star really is!"
      ]
    },
    {
      "cell_type": "code",
      "metadata": {
        "id": "39zw8LSrpq9i"
      },
      "source": [
        "#user-defined variables:\n",
        "M = 1 * 1.989e30 #kg, mass of the star. coverted from solar masses to kg\n",
        "\n",
        "#constants:\n",
        "G = 6.67e-11 #m^3/kg*s^2, gravitational constant\n",
        "pi = scp.pi #our value of pi. this makes it easier to keep track of\n",
        "X = 0.740 #in %, mass fraction of Hydrogen in our Sun\n",
        "mu = 0.6 #unitless\n",
        "Msolar = 1.989e30 #kg, mass of our Sun\n",
        "Rsolar = 696340000 #m, radius of our Sun\n",
        "opacity = 8 #m^2/kg, similar to the Sun's opacity\n",
        "Eo = 1.08e-12 #W*m^3/kg^2, constant used in energy generation function\n",
        "sigma = scp.sigma #W/m^2K^4, Stefan-Boltzmann constant\n",
        "\n",
        "#constants for integration:\n",
        "a = 1.0\n",
        "b = 5.0\n",
        "tolerance = 1.0e-6\n",
        "N_init = 10"
      ],
      "execution_count": 155,
      "outputs": []
    },
    {
      "cell_type": "markdown",
      "metadata": {
        "id": "HSnu8Hgl5BHb"
      },
      "source": [
        "# Equations and Functions\n",
        "\n",
        "We will be using many equations to build our star. Here is a list of their names:\n",
        "\n",
        "- Hydrostatic Equilibrium\n",
        "\n",
        "- Equation of State\n",
        "\n",
        "- Mass Continuity\n",
        "\n",
        "- Radiative Temperature Gradient\n",
        "\n",
        "- Solar Luminosity\n",
        "\n",
        "- Energy Generation\n",
        "\n",
        "There's a lot here, so I will define them in comments as we go. \n",
        "\n",
        "First up, we will define an equation to find the radius of the star from the user-defined mass:"
      ]
    },
    {
      "cell_type": "code",
      "metadata": {
        "colab": {
          "base_uri": "https://localhost:8080/"
        },
        "id": "sevKxBn96W-U",
        "outputId": "86947fea-db8b-4c46-be80-d15e5370f856"
      },
      "source": [
        "if (M / Msolar) == 1.0: #we want the one we actually know to be true!\n",
        "  R = Rsolar\n",
        "else:\n",
        "  if (M / Msolar) > 1.66: #the rules for radius change as stars get large!\n",
        "    R = 1.33*Rsolar*(M/Msolar)**0.555\n",
        "  else:\n",
        "    R = 1.06*Rsolar*(M/Msolar)**0.945\n",
        "R = int(R)\n",
        "print(R)"
      ],
      "execution_count": 156,
      "outputs": [
        {
          "output_type": "stream",
          "text": [
            "696340000\n"
          ],
          "name": "stdout"
        }
      ]
    },
    {
      "cell_type": "markdown",
      "metadata": {
        "id": "EAPyIg7s6GBP"
      },
      "source": [
        "Now that we have our radius, we can write an equation to find density. Since density changes with radial distance, we must define:"
      ]
    },
    {
      "cell_type": "code",
      "metadata": {
        "id": "OXIbuD2eqbIr"
      },
      "source": [
        "def density(r): \n",
        "  return 3*M / (4*pi*r**3)"
      ],
      "execution_count": 157,
      "outputs": []
    },
    {
      "cell_type": "markdown",
      "metadata": {
        "id": "R12QkoEf-wof"
      },
      "source": [
        "That wasn't so bad! Now, let's get to the good stuff. We can find the mass internal to a radial distance using the Mass Continuity Equation. This is where we need to start integrating, since this equation traditionally gives us the CHANGE in mass:"
      ]
    },
    {
      "cell_type": "code",
      "metadata": {
        "id": "b8IlPtQy_G-M"
      },
      "source": [
        "def mass(r): #mass continuity equation\n",
        "  return 4*pi*r**2*density(r)\n",
        "\n",
        "def integral_mass(r): #integral of our mass equation\n",
        "  return integrate.quad(mass,0,r,limit=100)"
      ],
      "execution_count": 158,
      "outputs": []
    },
    {
      "cell_type": "code",
      "metadata": {
        "colab": {
          "base_uri": "https://localhost:8080/"
        },
        "id": "VMU9YazNJ6LE",
        "outputId": "adbfeb66-cb58-4afa-997c-927d9fb23d87"
      },
      "source": [
        "print(integral_mass(R))"
      ],
      "execution_count": 159,
      "outputs": [
        {
          "output_type": "stream",
          "text": [
            "(4.554861696301003e+32, 5.57947937465304e+31)\n"
          ],
          "name": "stdout"
        },
        {
          "output_type": "stream",
          "text": [
            "/usr/local/lib/python3.7/dist-packages/ipykernel_launcher.py:5: IntegrationWarning: The maximum number of subdivisions (100) has been achieved.\n",
            "  If increasing the limit yields no improvement it is advised to analyze \n",
            "  the integrand in order to determine the difficulties.  If the position of a \n",
            "  local difficulty can be determined (singularity, discontinuity) one will \n",
            "  probably gain from splitting up the interval and calling the integrator \n",
            "  on the subranges.  Perhaps a special-purpose integrator should be used.\n",
            "  \"\"\"\n"
          ],
          "name": "stderr"
        }
      ]
    },
    {
      "cell_type": "markdown",
      "metadata": {
        "id": "d02oBPRcIhgT"
      },
      "source": [
        "Now that we have our mass continuity equation ready, we can set up our equation for Hydrostatic Equilibrium. This is *also* a \"change-in\" equation, so we need to find the integral as well."
      ]
    },
    {
      "cell_type": "code",
      "metadata": {
        "id": "K6hxy3C8_T3B"
      },
      "source": [
        "def pressure(r): #hydrostatic equilibrium\n",
        "  return G*integral_mass(r)[0]/r**2*-1\n",
        "\n",
        "def integral_pressure(r): #integral of hydrostatic equilibrium\n",
        "  return integrate.quad(pressure,0,r)"
      ],
      "execution_count": 160,
      "outputs": []
    },
    {
      "cell_type": "code",
      "metadata": {
        "colab": {
          "base_uri": "https://localhost:8080/"
        },
        "id": "eToecZ2kJVLq",
        "outputId": "03dbbdd1-6039-4615-feaf-06a492b7d56e"
      },
      "source": [
        "print(integral_pressure(R/200))"
      ],
      "execution_count": 161,
      "outputs": [
        {
          "output_type": "stream",
          "text": [
            "/usr/local/lib/python3.7/dist-packages/ipykernel_launcher.py:5: IntegrationWarning: The maximum number of subdivisions (100) has been achieved.\n",
            "  If increasing the limit yields no improvement it is advised to analyze \n",
            "  the integrand in order to determine the difficulties.  If the position of a \n",
            "  local difficulty can be determined (singularity, discontinuity) one will \n",
            "  probably gain from splitting up the interval and calling the integrator \n",
            "  on the subranges.  Perhaps a special-purpose integrator should be used.\n",
            "  \"\"\"\n"
          ],
          "name": "stderr"
        },
        {
          "output_type": "stream",
          "text": [
            "(8725888937787392.0, 319488.0)\n"
          ],
          "name": "stdout"
        },
        {
          "output_type": "stream",
          "text": [
            "/usr/local/lib/python3.7/dist-packages/ipykernel_launcher.py:5: IntegrationWarning: The integral is probably divergent, or slowly convergent.\n",
            "  \"\"\"\n"
          ],
          "name": "stderr"
        }
      ]
    },
    {
      "cell_type": "code",
      "metadata": {
        "id": "mg1kD3IALFZi"
      },
      "source": [
        ""
      ],
      "execution_count": 161,
      "outputs": []
    }
  ]
}